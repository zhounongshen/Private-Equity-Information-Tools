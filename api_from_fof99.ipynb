{
 "cells": [
  {
   "cell_type": "code",
   "execution_count": 5,
   "metadata": {},
   "outputs": [],
   "source": [
    "import json\n",
    "import pandas as pd\n",
    "import numpy as np\n",
    "import math\n",
    "import datetime"
   ]
  },
  {
   "cell_type": "code",
   "execution_count": null,
   "metadata": {},
   "outputs": [],
   "source": [
    "import requests\n",
    "import hashlib\n",
    "# 构造 URL\n",
    "# 第一个url为指数信息 第二个为基金信息\n",
    "# base_url = 'http://mallapi.fof99.com/index/price'\n",
    "base_url = 'http://mallapi.fof99.com/price'\n",
    "# 定义参数\n",
    "# SQH719\n",
    "params = {\n",
    "    #填写你的app_id\n",
    "    \"app_id\": \"\",\n",
    "    #想要查询的基金代码\n",
    "    'reg_code': 'SS9013',\n",
    "    'order_by': 'price_date',\n",
    "    # 时间排序 0=倒序，1=升序\t\n",
    "    'order': '1',\n",
    "    # 开始日期。 不传默认全部 Format = YYYY-MM-DD\t\n",
    "    'start_date': '2022-01-01'\n",
    "}"
   ]
  },
  {
   "cell_type": "code",
   "execution_count": null,
   "metadata": {},
   "outputs": [],
   "source": [
    "# 定义秘钥\n",
    "AppSecret= \"YOUR-APP_SECRET_CODE\"\n",
    "# 对参数按照 key 升序排序，并拼接成 key=value 形式的字符串\n",
    "sorted_params = sorted(params.items(), key=lambda x: x[0])\n",
    "query_string = '&'.join([f'{k}={v}' for k, v in sorted_params])\n",
    "# 在拼接上秘钥\n",
    "query_string_with_key = query_string + AppSecret\n",
    "# 计算字符串的 MD5 哈希\n",
    "hash_object = hashlib.md5(query_string_with_key.encode())\n",
    "sign = hash_object.hexdigest()\n",
    "# 将签名添加到参数中\n",
    "params['sign'] = sign\n",
    "\n",
    "url = f'{base_url}?{\"&\".join([f\"{k}={v}\" for k, v in params.items()])}'\n",
    "response = requests.get(url)"
   ]
  },
  {
   "cell_type": "markdown",
   "metadata": {},
   "source": [
    "{'error_code': 0,\n",
    "\n",
    " 'msg': '',\n",
    "\n",
    " 'data': [{'nav': 1.821,\n",
    "\n",
    "   'cumulative_nav_withdrawal': 1.821,\n",
    "\n",
    "   'cumulative_nav': 1.821,\n",
    "\n",
    "   'price_change': -0.0043739748,\n",
    "\n",
    "   'price_date': '2023-09-22'},\n",
    "\n",
    "  {'nav': 1.829,\n",
    "\n",
    "   'cumulative_nav_withdrawal': 1.829,\n",
    "\n",
    "   'cumulative_nav': 1.829,\n",
    "\n",
    "   'price_change': 0.0155469184,\n",
    "\n",
    "   'price_date': '2023-09-15'},\n",
    "\n",
    "  {'nav': 1.801,\n",
    "\n",
    "   'cumulative_nav_withdrawal': 1.801,\n",
    "\n",
    "   'cumulative_nav': 1.801,\n",
    "\n",
    "   'price_change': -0.0120680197,\n",
    "\n",
    "   'price_date': '2023-09-08'}]\n",
    "   \n",
    "}\n",
    "\n",
    "   格式如上"
   ]
  },
  {
   "cell_type": "code",
   "execution_count": 3,
   "metadata": {},
   "outputs": [],
   "source": [
    "a=[\n",
    "    {'参数名':'code','描述':'0=成功，大于0请求出错','类型':'string'},\n",
    "    {'参数名':'data.nav','描述':'当前净值','类型':'string'},\n",
    "    {'参数名':'data.cumulative_nav_withdrawal','描述':'累计净值(分红不投)','类型':'string'},\n",
    "    {'参数名':'data.cumulative_nav','描述':'累计净值(分红再投)','类型':'string'},\n",
    "    {'参数名':'data.price_change','描述':'净值变化','类型':'string'},\n",
    "    {'参数名':'data.price_date','描述':'净值日期','类型':'string'}\n",
    "]"
   ]
  },
  {
   "cell_type": "code",
   "execution_count": 7,
   "metadata": {},
   "outputs": [
    {
     "data": {
      "text/html": [
       "<div>\n",
       "<style scoped>\n",
       "    .dataframe tbody tr th:only-of-type {\n",
       "        vertical-align: middle;\n",
       "    }\n",
       "\n",
       "    .dataframe tbody tr th {\n",
       "        vertical-align: top;\n",
       "    }\n",
       "\n",
       "    .dataframe thead th {\n",
       "        text-align: right;\n",
       "    }\n",
       "</style>\n",
       "<table border=\"1\" class=\"dataframe\">\n",
       "  <thead>\n",
       "    <tr style=\"text-align: right;\">\n",
       "      <th></th>\n",
       "      <th>参数名</th>\n",
       "      <th>描述</th>\n",
       "      <th>类型</th>\n",
       "    </tr>\n",
       "  </thead>\n",
       "  <tbody>\n",
       "    <tr>\n",
       "      <th>0</th>\n",
       "      <td>code</td>\n",
       "      <td>0=成功，大于0请求出错</td>\n",
       "      <td>string</td>\n",
       "    </tr>\n",
       "    <tr>\n",
       "      <th>1</th>\n",
       "      <td>data.nav</td>\n",
       "      <td>当前净值</td>\n",
       "      <td>string</td>\n",
       "    </tr>\n",
       "    <tr>\n",
       "      <th>2</th>\n",
       "      <td>data.cumulative_nav_withdrawal</td>\n",
       "      <td>累计净值(分红不投)</td>\n",
       "      <td>string</td>\n",
       "    </tr>\n",
       "    <tr>\n",
       "      <th>3</th>\n",
       "      <td>data.cumulative_nav</td>\n",
       "      <td>累计净值(分红再投)</td>\n",
       "      <td>string</td>\n",
       "    </tr>\n",
       "    <tr>\n",
       "      <th>4</th>\n",
       "      <td>data.price_change</td>\n",
       "      <td>净值变化</td>\n",
       "      <td>string</td>\n",
       "    </tr>\n",
       "    <tr>\n",
       "      <th>5</th>\n",
       "      <td>data.price_date</td>\n",
       "      <td>净值日期</td>\n",
       "      <td>string</td>\n",
       "    </tr>\n",
       "  </tbody>\n",
       "</table>\n",
       "</div>"
      ],
      "text/plain": [
       "                              参数名            描述      类型\n",
       "0                            code  0=成功，大于0请求出错  string\n",
       "1                        data.nav          当前净值  string\n",
       "2  data.cumulative_nav_withdrawal    累计净值(分红不投)  string\n",
       "3             data.cumulative_nav    累计净值(分红再投)  string\n",
       "4               data.price_change          净值变化  string\n",
       "5                 data.price_date          净值日期  string"
      ]
     },
     "execution_count": 7,
     "metadata": {},
     "output_type": "execute_result"
    }
   ],
   "source": [
    "a = pd.DataFrame(a)\n",
    "a"
   ]
  },
  {
   "cell_type": "code",
   "execution_count": null,
   "metadata": {},
   "outputs": [],
   "source": [
    "# 读取json格式的基金净值信息\n",
    "dict = json.loads(response.text)\n",
    "dict"
   ]
  },
  {
   "cell_type": "code",
   "execution_count": 9,
   "metadata": {},
   "outputs": [],
   "source": [
    "# 这里我们选择nav作为净值进行后续计算\n",
    "df_nav = pd.DataFrame()\n",
    "for item in dict['data']:\n",
    "    temp = pd.DataFrame({'nav': item['nav'],\\\n",
    "                            'price_date': item['price_date'],\\\n",
    "                                'price_change': item['price_change']},index=[0])\n",
    "    df_nav = pd.concat([df_nav,temp],ignore_index=True)\n",
    "df = df_nav\n",
    "name = 'nav'"
   ]
  },
  {
   "cell_type": "code",
   "execution_count": null,
   "metadata": {},
   "outputs": [],
   "source": [
    "# 初试日期净值归一化\n",
    "newValues = []\n",
    "firstValue = df.iloc[-1]\n",
    "if name == 'cum_nav_withdraw':\n",
    "    len_value = len(str(firstValue.cum_nav_withdraw).split('.')[0]) - 1\n",
    "    bit = 10 ** len_value\n",
    "    scale = (firstValue.cum_nav_withdraw / bit) - 1\n",
    "else:\n",
    "    len_value = len(str(firstValue.nav).split('.')[0]) - 1\n",
    "    bit = 10 ** len_value\n",
    "    scale = (firstValue.nav / bit) - 1\n",
    "\n",
    "df['normalize'] = None\n",
    "\n",
    "for i in df.index:\n",
    "    value = df.at[i, name]\n",
    "    normalized_value = (value / bit) - scale\n",
    "    df.at[i, 'normalize'] = normalized_value"
   ]
  },
  {
   "cell_type": "code",
   "execution_count": null,
   "metadata": {},
   "outputs": [],
   "source": [
    "# 日期转换为datetime格式\n",
    "df['price_date'] = pd.to_datetime(df['price_date'])"
   ]
  },
  {
   "cell_type": "code",
   "execution_count": null,
   "metadata": {},
   "outputs": [],
   "source": [
    "from empyrical import max_drawdown as md,sharpe_ratio as sr,calmar_ratio as cr,annual_return as ar\n",
    "# 加载empyrical来计算回撤 夏普 卡玛 值"
   ]
  }
 ],
 "metadata": {
  "kernelspec": {
   "display_name": "causis",
   "language": "python",
   "name": "python3"
  },
  "language_info": {
   "codemirror_mode": {
    "name": "ipython",
    "version": 3
   },
   "file_extension": ".py",
   "mimetype": "text/x-python",
   "name": "python",
   "nbconvert_exporter": "python",
   "pygments_lexer": "ipython3",
   "version": "3.10.12"
  },
  "orig_nbformat": 4
 },
 "nbformat": 4,
 "nbformat_minor": 2
}
